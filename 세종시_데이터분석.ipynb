{
  "nbformat": 4,
  "nbformat_minor": 0,
  "metadata": {
    "kernelspec": {
      "display_name": "Python 3",
      "language": "python",
      "name": "python3"
    },
    "language_info": {
      "codemirror_mode": {
        "name": "ipython",
        "version": 3
      },
      "file_extension": ".py",
      "mimetype": "text/x-python",
      "name": "python",
      "nbconvert_exporter": "python",
      "pygments_lexer": "ipython3",
      "version": "3.7.3"
    },
    "colab": {
      "name": "세종시_데이터분석_코드_제출용-checkpoint.ipynb",
      "provenance": [],
      "include_colab_link": true
    }
  },
  "cells": [
    {
      "cell_type": "markdown",
      "metadata": {
        "id": "view-in-github",
        "colab_type": "text"
      },
      "source": [
        "<a href=\"https://colab.research.google.com/github/why00n/sejong_housemarket/blob/main/%EC%84%B8%EC%A2%85%EC%8B%9C_%EB%8D%B0%EC%9D%B4%ED%84%B0%EB%B6%84%EC%84%9D.ipynb\" target=\"_parent\"><img src=\"https://colab.research.google.com/assets/colab-badge.svg\" alt=\"Open In Colab\"/></a>"
      ]
    },
    {
      "cell_type": "markdown",
      "metadata": {
        "id": "a3GB7VvCMcg9"
      },
      "source": [
        "읍면동 별 거주자 수 평균"
      ]
    },
    {
      "cell_type": "code",
      "metadata": {
        "id": "fDR5dtO7Mcg_"
      },
      "source": [
        "dt_age=pd.read_csv('22.세종시_연령별_인구현황.csv', encoding='CP949')"
      ],
      "execution_count": null,
      "outputs": []
    },
    {
      "cell_type": "code",
      "metadata": {
        "id": "NT5EiFLwMchA"
      },
      "source": [
        "dt_age_2017=dt_age.loc[:,'201701_남자(총_거주자_수)':'201712_여자(100세_이상)']\n",
        "dt_age_2018=dt_age.loc[:,'201801_남자(총_거주자_수)':'201812_여자(100세_이상)']\n",
        "dt_age_2019=dt_age.loc[:,'201901_남자(총_거주자_수)':'201912_여자(100세_이상)']\n",
        "dt_age_2020=dt_age.loc[:,'202001_남자(총_거주자_수)':'202012_여자(100세_이상)']"
      ],
      "execution_count": null,
      "outputs": []
    },
    {
      "cell_type": "code",
      "metadata": {
        "id": "SSHeWPSDMchB"
      },
      "source": [
        "dt_age_2017=dt_age_2017.filter(regex='총_거주자_수')\n",
        "dt_age_2017['2017_거주자수_평균']=dt_age_2017.mean(axis=1)\n",
        "\n",
        "dt_age_2018=dt_age_2018.filter(regex='총_거주자_수')\n",
        "dt_age_2018['2018_거주자수_평균']=dt_age_2018.mean(axis=1)\n",
        "\n",
        "dt_age_2019=dt_age_2019.filter(regex='총_거주자_수')\n",
        "dt_age_2019['2019_거주자수_평균']=dt_age_2019.mean(axis=1)\n",
        "\n",
        "dt_age_2020=dt_age_2020.filter(regex='총_거주자_수')\n",
        "dt_age_2020['2020_거주자수_평균']=dt_age_2020.mean(axis=1)\n"
      ],
      "execution_count": null,
      "outputs": []
    },
    {
      "cell_type": "code",
      "metadata": {
        "id": "7VLTJwWxMchC"
      },
      "source": [
        "df_age=pd.DataFrame({\n",
        "    '읍면동':dt_age['읍면동'],\n",
        "    '2017_거주자수_평균':dt_age_2017['2017_거주자수_평균'],\n",
        "    '2018_거주자수_평균':dt_age_2018['2018_거주자수_평균'],\n",
        "    '2019_거주자수_평균':dt_age_2019['2019_거주자수_평균'],\n",
        "    '2020_거주자수_평균':dt_age_2020['2020_거주자수_평균']\n",
        "})"
      ],
      "execution_count": null,
      "outputs": []
    },
    {
      "cell_type": "code",
      "metadata": {
        "id": "cPP4Z0FDMchC"
      },
      "source": [
        "df_age['거주자수_평균']=df_age.mean(axis=1)\n",
        "df_age2=df_age.sort_values(by='거주자수_평균',ascending=False).head(10)"
      ],
      "execution_count": null,
      "outputs": []
    },
    {
      "cell_type": "code",
      "metadata": {
        "id": "93uF4QdLMchD"
      },
      "source": [
        "df_age2=df_age2.drop(index=0,axis=0)\n",
        "df_age2=df_age2.drop(['거주자수_평균'],axis=1)\n",
        "df_age2=df_age2.set_index('읍면동')"
      ],
      "execution_count": null,
      "outputs": []
    },
    {
      "cell_type": "code",
      "metadata": {
        "id": "3TZtMfO_MchE"
      },
      "source": [
        "df_age2.plot(kind='bar',figsize=(10,5))\n",
        "plt.title('읍면동 별 거주자 수 평균')\n",
        "plt.xlabel('읍면동')\n",
        "plt.ylabel('거주자 수 평균')"
      ],
      "execution_count": null,
      "outputs": []
    },
    {
      "cell_type": "markdown",
      "metadata": {
        "id": "SjhWlJ4dMchF"
      },
      "source": [
        "지역별 연령 별 거주자수 평균"
      ]
    },
    {
      "cell_type": "code",
      "metadata": {
        "id": "B_EC_ucSMchG"
      },
      "source": [
        "import pandas as pd\n",
        "import numpy as np\n",
        "import matplotlib.pyplot as plt\n",
        "%matplotlib inline\n",
        "import seaborn as sns\n",
        "\n",
        "from matplotlib import font_manager,rc\n",
        "\n",
        "font_name=font_manager.FontProperties(fname='c:/Windows/Fonts/malgun.ttf').get_name()\n",
        "rc('font', family=font_name)"
      ],
      "execution_count": null,
      "outputs": []
    },
    {
      "cell_type": "code",
      "metadata": {
        "id": "7MwGwbyqMchH"
      },
      "source": [
        "df_2017=pd.read_csv('2017_지역별_연령별_인구수.csv')\n",
        "df_2018=pd.read_csv('2018_지역별_연령별_인구수.csv')\n",
        "df_2019=pd.read_csv('2019_지역별_연령별_인구수.csv')\n",
        "df_2020=pd.read_csv('2020_지역별_연령별_인구수.csv')"
      ],
      "execution_count": null,
      "outputs": []
    },
    {
      "cell_type": "code",
      "metadata": {
        "id": "V_439TTuMchH"
      },
      "source": [
        "df_age=pd.read_csv('22.세종시_연령별_인구현황.csv',encoding='CP949')\n",
        "df_2017['읍면동']=df_age['읍면동']\n",
        "df_2017=df_2017.set_index(['읍면동'])\n",
        "\n",
        "df_2018['읍면동']=df_age['읍면동']\n",
        "df_2018=df_2018.set_index(['읍면동'])\n",
        "\n",
        "df_2019['읍면동']=df_age['읍면동']\n",
        "df_2019=df_2019.set_index(['읍면동'])\n",
        "\n",
        "df_2020['읍면동']=df_age['읍면동']\n",
        "df_2020=df_2020.set_index(['읍면동'])"
      ],
      "execution_count": null,
      "outputs": []
    },
    {
      "cell_type": "code",
      "metadata": {
        "id": "2SlWRxnuMchH",
        "outputId": "b27ae759-3c1a-4a1f-c755-cf662fe6a0ac"
      },
      "source": [
        "df_2017.plot(kind='bar',figsize=(20,4),stacked=True)\n",
        "plt.title('나이대 별 거주자수 평균', fontsize=10)\n",
        "plt.xlabel('읍면동', fontsize=10)\n",
        "plt.ylabel('나이대', fontsize=10)\n",
        "\n",
        "df_2018.plot(kind='bar',figsize=(20,4),stacked=True)\n",
        "plt.title('나이대 별 거주자수 평균', fontsize=10)\n",
        "plt.xlabel('읍면동', fontsize=10)\n",
        "plt.ylabel('나이대', fontsize=10)\n",
        "\n",
        "df_2019.plot(kind='bar',figsize=(20,4),stacked=True)\n",
        "plt.title('나이대 별 거주자수 평균', fontsize=10)\n",
        "plt.xlabel('읍면동', fontsize=10)\n",
        "plt.ylabel('나이대', fontsize=10)\n",
        "\n",
        "df_2020.plot(kind='bar',figsize=(20,4),stacked=True)\n",
        "plt.title('나이대 별 거주자수 평균', fontsize=10)\n",
        "plt.xlabel('읍면동', fontsize=10)\n",
        "plt.ylabel('나이대', fontsize=10)"
      ],
      "execution_count": null,
      "outputs": [
        {
          "output_type": "execute_result",
          "data": {
            "text/plain": [
              "Text(0, 0.5, '나이대')"
            ]
          },
          "metadata": {
            "tags": []
          },
          "execution_count": 4
        },
        {
          "output_type": "display_data",
          "data": {
            "image/png": "[encoded data removed]",
            "text/plain": [
              "<Figure size 1440x288 with 1 Axes>"
            ]
          },
          "metadata": {
            "tags": [],
            "needs_background": "light"
          }
        },
        {
          "output_type": "display_data",
          "data": {
            "image/png": "[encoded data removed]",
            "text/plain": [
              "<Figure size 1440x288 with 1 Axes>"
            ]
          },
          "metadata": {
            "tags": [],
            "needs_background": "light"
          }
        },
        {
          "output_type": "display_data",
          "data": {
            "image/png": "[encoded data removed]",
            "text/plain": [
              "<Figure size 1440x288 with 1 Axes>"
            ]
          },
          "metadata": {
            "tags": [],
            "needs_background": "light"
          }
        },
        {
          "output_type": "display_data",
          "data": {
            "image/png": "[encoded data removed]",
            "text/plain": [
              "<Figure size 1440x288 with 1 Axes>"
            ]
          },
          "metadata": {
            "tags": [],
            "needs_background": "light"
          }
        }
      ]
    },
    {
      "cell_type": "markdown",
      "metadata": {
        "id": "QSD9RNz_MchI"
      },
      "source": [
        ""
      ]
    },
    {
      "cell_type": "code",
      "metadata": {
        "id": "aUY1A4mAMchJ"
      },
      "source": [
        "spend=pd.read_csv('25.세종시_가구_월평균_소비지출액.csv',encoding='CP949')\n",
        "income=pd.read_csv('27.세종시_월평균_가구소득.csv', encoding='CP949')"
      ],
      "execution_count": null,
      "outputs": []
    },
    {
      "cell_type": "code",
      "metadata": {
        "id": "aqNbR1i9MchJ",
        "outputId": "d9f85d0d-475a-45a8-edea-b1c31ecf3a51"
      },
      "source": [
        "spend_by_income=spend.loc[28:35]\n",
        "plt.figure(figsize=(5,5))\n",
        "sns.heatmap(data=spend_by_income.corr(), linewidths=.5)\n",
        "\n",
        "# 전반적으로 소득이 많을수록 소비지출액이 높고 소득이 낮을수록 소비지출액이 낮다\n",
        "# 그런데 최하위, 최상위 계층은 버는 만큼 소비하는 반면,\n",
        "# 200~400 중위 소득- 소득에 비해 지출이 높은 경향이 있다"
      ],
      "execution_count": null,
      "outputs": [
        {
          "output_type": "execute_result",
          "data": {
            "text/plain": [
              "<matplotlib.axes._subplots.AxesSubplot at 0x1d1db528c18>"
            ]
          },
          "metadata": {
            "tags": []
          },
          "execution_count": 7
        },
        {
          "output_type": "display_data",
          "data": {
            "image/png": "[encoded data removed]",
            "text/plain": [
              "<Figure size 360x360 with 2 Axes>"
            ]
          },
          "metadata": {
            "tags": [],
            "needs_background": "light"
          }
        }
      ]
    },
    {
      "cell_type": "markdown",
      "metadata": {
        "id": "DiKDWP2wMchJ"
      },
      "source": [
        "세종시 가구 비율"
      ]
    },
    {
      "cell_type": "code",
      "metadata": {
        "id": "8Yy6wa9_MchJ",
        "outputId": "bc266d79-0a0b-4702-ab82-95a82a79b972"
      },
      "source": [
        "live_age_cnt=pd.read_csv('28.세종시_지역별_세대원수별_세대수.csv',encoding='CP949')\n",
        "live_age_cnt=live_age_cnt.set_index('읍면동')\n",
        "live_age_cnt.sum()\n",
        "# 1인 인구가 압도적으로 많음"
      ],
      "execution_count": null,
      "outputs": [
        {
          "output_type": "execute_result",
          "data": {
            "text/plain": [
              "계        135408\n",
              "1인        43719\n",
              "2인        27900\n",
              "3인        26255\n",
              "4인        28015\n",
              "5인         7604\n",
              "6인         1425\n",
              "7인          354\n",
              "8인           86\n",
              "9인           30\n",
              "10인이상        20\n",
              "dtype: int64"
            ]
          },
          "metadata": {
            "tags": []
          },
          "execution_count": 10
        }
      ]
    },
    {
      "cell_type": "code",
      "metadata": {
        "id": "068h7w3zMchJ",
        "outputId": "02418b9e-2c1b-4a6f-b8ce-0f3720920768"
      },
      "source": [
        "labels=['1인','2인','3인','4인','5인','6인','7인','8인','9인','10인이상']\n",
        "ratio=[43719,27900,26255,28015,7604,1425,354,86,30,20]\n",
        "plt.pie(ratio, labels=labels, shadow=True, startangle=90)"
      ],
      "execution_count": null,
      "outputs": [
        {
          "output_type": "execute_result",
          "data": {
            "text/plain": [
              "([<matplotlib.patches.Wedge at 0x1d1db6434e0>,\n",
              "  <matplotlib.patches.Wedge at 0x1d1db643c88>,\n",
              "  <matplotlib.patches.Wedge at 0x1d1db64e438>,\n",
              "  <matplotlib.patches.Wedge at 0x1d1db64eba8>,\n",
              "  <matplotlib.patches.Wedge at 0x1d1db657358>,\n",
              "  <matplotlib.patches.Wedge at 0x1d1db657ac8>,\n",
              "  <matplotlib.patches.Wedge at 0x1d1db662278>,\n",
              "  <matplotlib.patches.Wedge at 0x1d1db6629e8>,\n",
              "  <matplotlib.patches.Wedge at 0x1d1db66c160>,\n",
              "  <matplotlib.patches.Wedge at 0x1d1db66c8d0>],\n",
              " [Text(-0.9340348104264767, 0.5810154670157894, '1인'),\n",
              "  Text(-0.493896935683268, -0.9828864720417501, '2인'),\n",
              "  Text(0.7820108887394969, -0.7736012990506559, '3인'),\n",
              "  Text(0.9761396884295559, 0.5071008860893951, '4인'),\n",
              "  Text(0.28839685399816867, 1.0615211983771022, '5인'),\n",
              "  Text(0.06134615307382799, 1.0982880539744766, '6인'),\n",
              "  Text(0.015975519620972115, 1.099883986051638, '7인'),\n",
              "  Text(0.004746812276580874, 1.0999897580310514, '8인'),\n",
              "  Text(0.0017863864295521103, 1.099998549464282, '9인'),\n",
              "  Text(0.0005103355523602449, 1.0999998816170955, '10인이상')])"
            ]
          },
          "metadata": {
            "tags": []
          },
          "execution_count": 9
        },
        {
          "output_type": "display_data",
          "data": {
            "image/png": "[encoded data removed]",
            "text/plain": [
              "<Figure size 432x288 with 1 Axes>"
            ]
          },
          "metadata": {
            "tags": []
          }
        }
      ]
    },
    {
      "cell_type": "markdown",
      "metadata": {
        "id": "UD91h56GMchK"
      },
      "source": [
        "지"
      ]
    },
    {
      "cell_type": "code",
      "metadata": {
        "id": "aaN751REMchK"
      },
      "source": [
        "live_mean=pd.read_csv('거주자수평균.csv')\n",
        "live_mean=pd.concat([live_mean.iloc[0],live_mean.iloc[1],live_mean.iloc[2],live_mean.iloc[3],live_mean.iloc[4],live_mean.iloc[5],live_mean.iloc[6],live_mean.iloc[7],live_mean.iloc[8]], axis=1)"
      ],
      "execution_count": null,
      "outputs": []
    },
    {
      "cell_type": "code",
      "metadata": {
        "id": "adlzLXRdMchK"
      },
      "source": [
        "year=['2017','2018','2019','2020']\n",
        "live_mean.columns=['조치원읍', '새롬동','도담동','종촌동','고운동','아름동','한솔동','보람동','소담동']"
      ],
      "execution_count": null,
      "outputs": []
    },
    {
      "cell_type": "code",
      "metadata": {
        "id": "ZYJSng99MchK"
      },
      "source": [
        "live_mean=live_mean.drop('읍면동')\n",
        "live_mean['년도']=year\n",
        "live_mean=live_mean.set_index('년도')"
      ],
      "execution_count": null,
      "outputs": []
    },
    {
      "cell_type": "code",
      "metadata": {
        "id": "_GPM8N6eMchK",
        "outputId": "96f1c811-3c5d-4308-d75b-cb2193f71ce0"
      },
      "source": [
        "# 년도별 거주자 수 평균 \n",
        "live_mean.plot(kind='bar',figsize=(15,5),stacked=True)\n",
        "plt.title('년도 별 거주자 수 평균')\n",
        "plt.xlabel('년도')\n",
        "plt.ylabel('거주자 수 평균')"
      ],
      "execution_count": null,
      "outputs": [
        {
          "output_type": "execute_result",
          "data": {
            "text/plain": [
              "Text(0, 0.5, '거주자 수 평균')"
            ]
          },
          "metadata": {
            "tags": []
          },
          "execution_count": 14
        },
        {
          "output_type": "display_data",
          "data": {
            "image/png": "[encoded data removed]",
            "text/plain": [
              "<Figure size 1080x360 with 1 Axes>"
            ]
          },
          "metadata": {
            "tags": [],
            "needs_background": "light"
          }
        }
      ]
    },
    {
      "cell_type": "code",
      "metadata": {
        "id": "7KIX1HrJMchL"
      },
      "source": [
        "df_2017=pd.read_csv('가구주의_연령_가구유형별_추계가구_시도_2017.csv', encoding='CP949')\n",
        "df_2018=pd.read_csv('가구주의_연령_가구유형별_추계가구_시도_2018.csv', encoding='CP949')\n",
        "df_2019=pd.read_csv('가구주의_연령_가구유형별_추계가구_시도_2019.csv', encoding='CP949')\n",
        "df_2020=pd.read_csv('가구주의_연령_가구유형별_추계가구_시도_2020.csv', encoding='CP949')"
      ],
      "execution_count": null,
      "outputs": []
    },
    {
      "cell_type": "code",
      "metadata": {
        "id": "g5AIS5boMchL"
      },
      "source": [
        "df_2017=df_2017.drop(['행정구역별(시도)'],axis=1)\n",
        "df_2018=df_2018.drop(['행정구역별(시도)'],axis=1)\n",
        "df_2019=df_2019.drop(['행정구역별(시도)'],axis=1)\n",
        "df_2020=df_2020.drop(['행정구역별(시도)'],axis=1)"
      ],
      "execution_count": null,
      "outputs": []
    },
    {
      "cell_type": "code",
      "metadata": {
        "id": "gEu297iVMchL"
      },
      "source": [
        "df_2017.columns=['가구주의 연령별','계','부부','1세대 기타','부부+미혼자녀','부+미혼자녀','모+미혼자녀','부부+부모','조부모+미혼손자녀','2세대 기타','3세대 이상','1인 가구','비친족가구']\n",
        "df_2018.columns=['가구주의 연령별','계','부부','1세대 기타','부부+미혼자녀','부+미혼자녀','모+미혼자녀','부부+부모','조부모+미혼손자녀','2세대 기타','3세대 이상','1인 가구','비친족가구']\n",
        "df_2019.columns=['가구주의 연령별','계','부부','1세대 기타','부부+미혼자녀','부+미혼자녀','모+미혼자녀','부부+부모','조부모+미혼손자녀','2세대 기타','3세대 이상','1인 가구','비친족가구']\n",
        "df_2020.columns=['가구주의 연령별','계','부부','1세대 기타','부부+미혼자녀','부+미혼자녀','모+미혼자녀','부부+부모','조부모+미혼손자녀','2세대 기타','3세대 이상','1인 가구','비친족가구']"
      ],
      "execution_count": null,
      "outputs": []
    },
    {
      "cell_type": "code",
      "metadata": {
        "id": "iUor2TipMchL"
      },
      "source": [
        "df_2017=df_2017.drop([0],axis=0)\n",
        "df_2018=df_2018.drop([0],axis=0)\n",
        "df_2019=df_2019.drop([0],axis=0)\n",
        "df_2020=df_2020.drop([0],axis=0)"
      ],
      "execution_count": null,
      "outputs": []
    },
    {
      "cell_type": "code",
      "metadata": {
        "id": "VwtCxB5QMchL"
      },
      "source": [
        "df_17_20=pd.concat([df_2017.iloc[[0]],df_2018.iloc[[0]],df_2019.iloc[[0]],df_2020.iloc[[0]]],axis=0,ignore_index=True)\n",
        "df_17_20['년도']=['2017','2018','2019','2020']"
      ],
      "execution_count": null,
      "outputs": []
    },
    {
      "cell_type": "code",
      "metadata": {
        "id": "LDSGRCJTMchM"
      },
      "source": [
        "df_17_20=df_17_20.set_index(df_17_20['년도'])\n",
        "df_17_20=df_17_20.drop(['가구주의 연령별'],axis=1)\n",
        "df_17_20=df_17_20.drop(['년도'],axis=1)\n",
        "df_17_20=df_17_20.apply(pd.to_numeric)"
      ],
      "execution_count": null,
      "outputs": []
    },
    {
      "cell_type": "code",
      "metadata": {
        "id": "tmqiHIsrMchM",
        "outputId": "1ff650e2-bc35-4439-da89-5bc4109e4de4"
      },
      "source": [
        "# 년도 별 가구 형태 변화 \n",
        "# 전체적으로 증가/ \n",
        "# 초록 / 하늘이 많이 증가 \n",
        "\n",
        "\n",
        "df_17_20_drop_sum=df_17_20.drop(['계'],axis=1)\n",
        "df_17_20_drop_sum.plot(kind='bar',stacked=True,figsize=(20,6))\n",
        "plt.legend(loc='upper right', prop={'size':7})\n",
        "plt.show()"
      ],
      "execution_count": null,
      "outputs": [
        {
          "output_type": "display_data",
          "data": {
            "image/png": "[encoded data removed]",
            "text/plain": [
              "<Figure size 1440x432 with 1 Axes>"
            ]
          },
          "metadata": {
            "tags": [],
            "needs_background": "light"
          }
        }
      ]
    },
    {
      "cell_type": "markdown",
      "metadata": {
        "id": "MspO25vGMchM"
      },
      "source": [
        "학군코드"
      ]
    },
    {
      "cell_type": "code",
      "metadata": {
        "id": "fUKLXvnfMchM"
      },
      "source": [
        "# 유니코드 깨짐현상 해결\n",
        "matplotlib.rcParams['axes.unicode_minus'] = False\n",
        "# 나눔고딕 폰트 적용\n",
        "matplotlib.rcParams['font.family'] = 'NanumGothic'\n",
        "matplotlib.rcParams['axes.unicode_minus']=False"
      ],
      "execution_count": null,
      "outputs": []
    },
    {
      "cell_type": "code",
      "metadata": {
        "id": "8sl-E5D-MchM"
      },
      "source": [
        "from google.colab import drive\n",
        "drive.mount(('/content/drive'))"
      ],
      "execution_count": null,
      "outputs": []
    },
    {
      "cell_type": "code",
      "metadata": {
        "id": "mzU8gi-6MchM"
      },
      "source": [
        "middle_grad2018 = pd.read_csv(\"세종시2018_중학교졸업자.csv\")\n",
        "middle_grad2019 = pd.read_csv(\"세종시2019_중학교졸업자.csv\")\n",
        "middle_grad2020 = pd.read_csv(\"세종시2020_중학교졸업자.csv\")\n",
        "\n",
        "high_grad2018 = pd.read_csv(\"세종시2018_고등학교졸업자.csv\")\n",
        "high_grad2019 = pd.read_csv(\"세종시2019_고등학교졸업자.csv\")\n",
        "high_grad2020 = pd.read_csv(\"세종시2020_고등학교졸업자.csv\")"
      ],
      "execution_count": null,
      "outputs": []
    },
    {
      "cell_type": "code",
      "metadata": {
        "id": "0n6iZcSWMchN"
      },
      "source": [
        "# 2018,2019,2020 년도 데이터 결합\n",
        "middle_grad = pd.concat([middle_grad2018,middle_grad2019,middle_grad2020])\n",
        "middle_grad.groupby(['지역','중학교']).mean()"
      ],
      "execution_count": null,
      "outputs": []
    },
    {
      "cell_type": "code",
      "metadata": {
        "id": "k_BXsLa2MchN"
      },
      "source": [
        "# 지역별로 결합, 특목고 = 과학고 + 외고국제고, 특목고 진학률 높은순으로 정렬\n",
        "middle_grad = middle_grad.groupby(['지역']).mean()\n",
        "del middle_grad['소계']\n",
        "del middle_grad['소계.1']\n",
        "middle_grad['특목고 진학률'] = (middle_grad['과학고']+middle_grad['외고국제고'])/middle_grad['졸업자'] * 100\n",
        "middle_grad = middle_grad.sort_values(by='특목고 진학률',ascending=False)"
      ],
      "execution_count": null,
      "outputs": []
    },
    {
      "cell_type": "code",
      "metadata": {
        "id": "RNSV3230MchN"
      },
      "source": [
        ""
      ],
      "execution_count": null,
      "outputs": []
    },
    {
      "cell_type": "code",
      "metadata": {
        "id": "nmHbBu6cMchN"
      },
      "source": [
        ""
      ],
      "execution_count": null,
      "outputs": []
    },
    {
      "cell_type": "code",
      "metadata": {
        "id": "XAk0dMKNMchN"
      },
      "source": [
        ""
      ],
      "execution_count": null,
      "outputs": []
    },
    {
      "cell_type": "code",
      "metadata": {
        "id": "p3wIGvD3MchN"
      },
      "source": [
        ""
      ],
      "execution_count": null,
      "outputs": []
    },
    {
      "cell_type": "markdown",
      "metadata": {
        "id": "QOFWVLaAMchN"
      },
      "source": [
        "좌표데이터_법정동_mapping"
      ]
    },
    {
      "cell_type": "code",
      "metadata": {
        "id": "mdaBq4OmMchN"
      },
      "source": [
        "import geoband\n",
        "from geoband.API import *\n",
        "import folium\n",
        "import json\n",
        "import geopandas as gpd\n",
        "import pandas as pd\n",
        "import math\n",
        "import numpy as np"
      ],
      "execution_count": null,
      "outputs": []
    },
    {
      "cell_type": "code",
      "metadata": {
        "id": "AILBs3KNMchN"
      },
      "source": [
        "# 데이터를 주피터 노트북으로 불러오는 코드\n",
        "\n",
        "from geoband.API import *\n",
        "import pandas as pd\n",
        "\n",
        "df = GetCompasData('SBJ_2102_001', '16', '16.세종시_사업체_매출정보.geojson')\n",
        "df2 = GetCompasData('SBJ_2102_001', '17', '17.세종시_사업체_매출정보.csv')\n",
        "df3 = GetCompasData('SBJ_2102_001', '31', '31.세"
      ],
      "execution_count": null,
      "outputs": []
    },
    {
      "cell_type": "code",
      "metadata": {
        "id": "vy5oSI0aMchO"
      },
      "source": [
        "# 주피터 노트북으로 불러온 후, geojson/csv 불러오는 코드\n",
        "\n",
        "ex = json.load(open('16.세종시_사업체_매출정보.geojson',encoding= 'utf-8'))\n",
        "ex2 = pd.read_csv('17.세종시_사업체_매출정보.csv')\n",
        "ex3 = json.load(open('31.세종시_법정경계(읍면동).g"
      ],
      "execution_count": null,
      "outputs": []
    },
    {
      "cell_type": "code",
      "metadata": {
        "id": "b9N849b8MchO"
      },
      "source": [
        "# 상권데이터 전체 row에서 None 값으로 채워진 row 빼가\n",
        "# coordinates_list_1 은 5개 순서쌍으로 이루어진 각 row의 gid 들의 list\n",
        "# len(coordinates_list_1) = 312\n",
        "\n",
        "coordinates_list_1 = []\n",
        "\n",
        "for i in range(47396):\n",
        "    if ex['features'][i]['properties']['ws_cnt'] != None:\n",
        "        coordinates_list_1.append(\n",
        "            ex['features'][i]['geometry']['coordinates'][0][0]\n",
        "        )"
      ],
      "execution_count": null,
      "outputs": []
    },
    {
      "cell_type": "code",
      "metadata": {
        "id": "1_bvNjVcMchO"
      },
      "source": [
        "# 5개의 순서쌍으로 이루어진 gid 데이터를 각각 1개의 순서쌍으로 변환\n",
        "# 경도, 위도를 각각 평균\n",
        "# len(coordinates_list_2) = 312\n",
        "\n",
        "coordinates_list_2 = []\n",
        "\n",
        "for i in range(len(coordinates_list_1)):\n",
        "    \n",
        "    longitude_temp = 0 ; latitude_temp = 0\n",
        "    for k in range(5):\n",
        "        longitude_temp += coordinates_list_1[i][k][0] / 5\n",
        "        latitude_temp += coordinates_list_1[i][k][1] / 5\n",
        "        \n",
        "    coordinates_list_2.append([longitude_temp, latitude_temp])"
      ],
      "execution_count": null,
      "outputs": []
    },
    {
      "cell_type": "code",
      "metadata": {
        "id": "Kxh1HXO2MchO"
      },
      "source": [
        "# 법정동과 그 법정동의 경계지점을 구성하는 좌표들을 연결하여 dict 형태로 반환\n",
        "\n",
        "# coordinates_dict = {district_name : coordinates}\n",
        "# dict_name: 법정동\n",
        "# coordinates: 그 법정동의 경계선을 구성하는 좌표들\n",
        "\n",
        "coordinates_dict = {}\n",
        "\n",
        "for i in range(28): # 법정동 개수: 28\n",
        "    \n",
        "    district_name = ex3['features'][i]['properties']['EMD_KOR_NM']\n",
        "    coordinates = ex3['features'][i]['geometry']['coordinates']\n",
        "    \n",
        "    if district_name == '반곡동': # 반곡동만 geojson 데이터의 형태가 조금 달라서 다르게 처리\n",
        "        coordinates_dict[district_name] = coordinates[3][0]\n",
        "    else:\n",
        "        coordinates_dict[district_name] = coordinates[0][0]"
      ],
      "execution_count": null,
      "outputs": []
    },
    {
      "cell_type": "code",
      "metadata": {
        "id": "glHM6h2IMchO"
      },
      "source": [
        "# gid 좌표값이 어느 법정동에 해당하는지 연결\n",
        "# gid 좌표값(312개) vs. coordinates_dict(경계선 위 좌표들)\n",
        "\n",
        "# 1-1. 두 점(gid 좌표값, 경계선 위 좌표들) 사이의 기울기 계산\n",
        "# 1-2. 기울기의 arctan를 구하여 angle 값 계산\n",
        "# 1-3. arctan 함수의 치역이 - pi/2 ~ + pi/2 이므로, 2사분면과 3사분면에 위치하는 경우 보정\n",
        "# 1-4. 각 angle의 중복값을 제거\n",
        "\n",
        "# 2-1. 제거된 중복값을 각 법정동에 dict형태로 연결하고, value의 가장 길이가 긴 key를 선택  \n",
        "# 2-2. 선택받은 key들을 list 형태로 반환 (len = 312)\n",
        "\n",
        "district_list = []\n",
        "\n",
        "for coordinate in coordinates_list_2:    \n",
        "    \n",
        "    angle_dict = {}\n",
        "    \n",
        "    for d1, c1 in coordinates_dict.items():\n",
        "        \n",
        "        angle_list = []\n",
        "        cnt = 0\n",
        "        \n",
        "        for c2 in c1:\n",
        "            \n",
        "            # 1-1. 두 점(gid 좌표값, 경계선 위 좌표들) 사이의 기울기 계산\n",
        "            delta_x = c2[0]-coordinate[0]\n",
        "            delta_y = c2[1]-coordinate[1]\n",
        "            slope = delta_y / delta_x\n",
        "            \n",
        "            # 1-2. 기울기의 arctan를 구하여 angle 값 계산\n",
        "            angle = np.rad2deg(math.atan(slope))\n",
        "            angle_floor = round(angle,-1)\n",
        "            \n",
        "            # 1-3. arctan 함수의 치역이 - pi/2 ~ + pi/2 이므로, 2사분면과 3사분면에 위치하는 경우 보정\n",
        "            if delta_x < 0:\n",
        "                angle_floor += 180\n",
        "            else:\n",
        "                if delta_y < 0:\n",
        "                    angle_floor += 360\n",
        "\n",
        "            angle_list.append(angle_floor)\n",
        "        \n",
        "        # 1-4. 각 angle의 중복값을 제거\n",
        "        angle_set = set(angle_list)\n",
        "        \n",
        "        angle_dict[d1] = angle_set\n",
        "    # 2-1. 제거된 중복값을 각 법정동에 dict형태로 연결하고, value의 가장 길이가 긴 key를 선택  \n",
        "    c2_temp = 0 ; d2_temp = 0\n",
        "    for d2,c2 in angle_dict.items():\n",
        "        if c2_temp < len(c2):\n",
        "            c2_temp = len(c2)\n",
        "            d2_temp = d2\n",
        "            \n",
        "    # 2-2. 선택받은 key들을 list 형태로 반환 (len = 312)\n",
        "    district_list.append(d2_temp)"
      ],
      "execution_count": null,
      "outputs": []
    },
    {
      "cell_type": "code",
      "metadata": {
        "id": "dxUpWZmeMchP"
      },
      "source": [
        "print(len(district_list))\n",
        "print(district_list)"
      ],
      "execution_count": null,
      "outputs": []
    },
    {
      "cell_type": "markdown",
      "metadata": {
        "id": "3tiTSLHRMchP"
      },
      "source": [
        "인구데이터 지도 시각화"
      ]
    },
    {
      "cell_type": "code",
      "metadata": {
        "id": "ksZ-t-bhMchP"
      },
      "source": [
        "import json\n",
        "import folium\n",
        "import pandas as pd\n",
        "import numpy as np\n",
        "import matplotlib.pyplot as plt\n",
        "import matplotlib\n",
        "\n",
        "#plot 한글 폰트 꺠짐 방지\n",
        "font_name = matplotlib.font_manager.FontProperties(\n",
        "        fname='c:/windows/fonts/malgun.ttf').get_name()\n",
        "matplotlib.rc('font', family=font_name)\n",
        "# 한글폰트 지정 후 음수부호를 정확하게 표시하기 위해 추가할 코드\n",
        "matplotlib.rcParams['axes.unicode_minus']=False"
      ],
      "execution_count": null,
      "outputs": []
    },
    {
      "cell_type": "code",
      "metadata": {
        "id": "a4bWaPF7MchP"
      },
      "source": [
        "rfile = open(r'31.세종시_법정경계(읍면동).geojson','r',encoding='utf-8').read()\n",
        "jsonData = json.loads(rfile)"
      ],
      "execution_count": null,
      "outputs": []
    },
    {
      "cell_type": "code",
      "metadata": {
        "id": "2vlVgb4jMchP"
      },
      "source": [
        "df = pd.read_csv('22.세종시_연령별_인구현황.csv')\n",
        "people2017 = df[['읍면동','201712_남자(총_거주자_수)','201712_여자(총_거주자_수)']]\n",
        "people2018 = df[['읍면동','201812_남자(총_거주자_수)','201812_여자(총_거주자_수)']]\n",
        "people2019 = df[['읍면동','201912_남자(총_거주자_수)','201912_여자(총_거주자_수)']]\n",
        "people2020 = df[['읍면동','202012_남자(총_거주자_수)','202012_여자(총_거주자_수)']]"
      ],
      "execution_count": null,
      "outputs": []
    },
    {
      "cell_type": "code",
      "metadata": {
        "id": "5cnosG1PMchP"
      },
      "source": [
        "people2017['총거주자수'] = people2017['201712_남자(총_거주자_수)'] + people2017['201712_여자(총_거주자_수)']\n",
        "people2018['총거주자수'] = people2018['201812_남자(총_거주자_수)'] + people2018['201812_여자(총_거주자_수)']\n",
        "people2019['총거주자수'] = people2019['201912_남자(총_거주자_수)'] + people2019['201912_여자(총_거주자_수)']\n",
        "people2020['총거주자수'] = people2020['202012_남자(총_거주자_수)'] + people2020['202012_여자(총_거주자_수)']\n",
        "\n",
        "people2017 = people2017.drop(0,axis=0)\n",
        "people2018 = people2018.drop(0,axis=0)\n",
        "people2019 = people2019.drop(0,axis=0)\n",
        "people2020 = people2020.drop(0,axis=0)"
      ],
      "execution_count": null,
      "outputs": []
    },
    {
      "cell_type": "code",
      "metadata": {
        "id": "7onYoZokMchP"
      },
      "source": [
        "# 2017 년 읍면동별 인구수 지도 시각화\n",
        "\n",
        "m = folium.Map(location=[36.57,127.30] ,zoom_start=10.5)\n",
        "\n",
        "folium.Choropleth(geo_data = jsonData,\n",
        "                  data = people2017,\n",
        "                  key_on = 'feature.properties.EMD_KOR_NM',\n",
        "                  columns = ('읍면동','총거주자수'),\n",
        "                  fill_color = 'RdYlGn',\n",
        "                  legend_name = '인구수').add_to(m)\n",
        "m"
      ],
      "execution_count": null,
      "outputs": []
    },
    {
      "cell_type": "code",
      "metadata": {
        "id": "pLLN4do0MchP"
      },
      "source": [
        "# 2018 년 읍면동별 인구수 지도 시각화\n",
        "\n",
        "m = folium.Map(location=[36.57,127.30] ,zoom_start=10.5)\n",
        "\n",
        "folium.Choropleth(geo_data = jsonData,\n",
        "                  data = people2018,\n",
        "                  key_on = 'feature.properties.EMD_KOR_NM',\n",
        "                  columns = ('읍면동','총거주자수'),\n",
        "                  fill_color = 'RdYlGn',\n",
        "                  legend_name = '인구수').add_to(m)\n",
        "m"
      ],
      "execution_count": null,
      "outputs": []
    },
    {
      "cell_type": "code",
      "metadata": {
        "id": "hwW_u5kqMchQ"
      },
      "source": [
        "# 2019년 읍면동별 인구수 지도 시각화\n",
        "\n",
        "m = folium.Map(location=[36.57,127.30] ,zoom_start=10.5)\n",
        "\n",
        "folium.Choropleth(geo_data = jsonData,\n",
        "                  data = people2019,\n",
        "                  key_on = 'feature.properties.EMD_KOR_NM',\n",
        "                  columns = ('읍면동','총거주자수'),\n",
        "                  fill_color = 'RdYlGn',\n",
        "                  legend_name = '인구수').add_to(m)\n",
        "m"
      ],
      "execution_count": null,
      "outputs": []
    },
    {
      "cell_type": "code",
      "metadata": {
        "id": "t5R5GBrsMchQ"
      },
      "source": [
        "# 2020 년 읍면동별 인구수 지도 시각화\n",
        "\n",
        "m = folium.Map(location=[36.57,127.30] ,zoom_start=10.5)\n",
        "\n",
        "folium.Choropleth(geo_data = jsonData,\n",
        "                  data = people2020,\n",
        "                  key_on = 'feature.properties.EMD_KOR_NM',\n",
        "                  columns = ('읍면동','총거주자수'),\n",
        "                  fill_color = 'RdYlGn',\n",
        "                  legend_name = '인구수').add_to(m)\n",
        "m"
      ],
      "execution_count": null,
      "outputs": []
    },
    {
      "cell_type": "code",
      "metadata": {
        "id": "l8R7iCNpMchQ"
      },
      "source": [
        "people2017 = people2017.set_index('읍면동')\n",
        "people2018 = people2018.set_index('읍면동')\n",
        "people2019 = people2019.set_index('읍면동')\n",
        "people2020 = people2020.set_index('읍면동')"
      ],
      "execution_count": null,
      "outputs": []
    },
    {
      "cell_type": "code",
      "metadata": {
        "id": "ilP-WFdrMchQ"
      },
      "source": [
        "# people2017.set_index(\"읍면동\", inplace = True)\n",
        "people2017 = people2017.sort_values(by='총거주자수',ascending=False)\n",
        "\n",
        "people2017['총거주자수'].plot(kind='bar', rot=0, figsize=(13,5), color='darkcyan')\n",
        "plt.title('2017년 세종시 인구', fontsize=17)\n",
        "plt.xlabel('읍면동',fontsize=12)\n",
        "plt.ylabel('인구수',fontsize=13)\n",
        "# plt.axhline(y=middle_grad['특목고 진학률'].quantile(0.75),color='pink',linewidth=2,ls='--')  # 상위 25% 선\n",
        "plt.show()"
      ],
      "execution_count": null,
      "outputs": []
    },
    {
      "cell_type": "code",
      "metadata": {
        "id": "0lMlRtFvMchQ"
      },
      "source": [
        "# people2020.set_index(\"읍면동\", inplace = True)\n",
        "people2020 = people2020.sort_values(by='총거주자수',ascending=False)\n",
        "\n",
        "people2020['총거주자수'].plot(kind='bar', rot=0, figsize=(13,5), color='darkcyan')\n",
        "plt.title('2020년 세종시 인구', fontsize=17)\n",
        "plt.xlabel('읍면동',fontsize=12)\n",
        "plt.ylabel('인구수',fontsize=13)\n",
        "# plt.axhline(y=middle_grad['특목고 진학률'].quantile(0.75),color='pink',linewidth=2,ls='--')  # 상위 25% 선\n",
        "plt.show()"
      ],
      "execution_count": null,
      "outputs": []
    },
    {
      "cell_type": "markdown",
      "metadata": {
        "id": "lAEQ2imqMchQ"
      },
      "source": [
        "상권 분석"
      ]
    },
    {
      "cell_type": "code",
      "metadata": {
        "id": "2fJlbvgnMchQ"
      },
      "source": [
        "df=pd.read_csv('14.세종시_상권정보.csv')\n",
        "df_code=pd.read_csv('15.세종시_상권정보_업종코드.csv')"
      ],
      "execution_count": null,
      "outputs": []
    },
    {
      "cell_type": "code",
      "metadata": {
        "id": "Dx8HihJFMchQ",
        "outputId": "33bd7c0a-52f4-4814-abcc-07b7b5cbbe83"
      },
      "source": [
        "# 상권업종대분류명 기준으로 개수 비교\n",
        "df['상권업종대분류명'].value_counts().plot(kind='bar')\n"
      ],
      "execution_count": null,
      "outputs": [
        {
          "output_type": "execute_result",
          "data": {
            "text/plain": [
              "<matplotlib.axes._subplots.AxesSubplot at 0x1d1db090550>"
            ]
          },
          "metadata": {
            "tags": []
          },
          "execution_count": 23
        },
        {
          "output_type": "display_data",
          "data": {
            "image/png": "[encoded data removed]",
            "text/plain": [
              "<Figure size 432x288 with 1 Axes>"
            ]
          },
          "metadata": {
            "tags": [],
            "needs_background": "light"
          }
        }
      ]
    },
    {
      "cell_type": "code",
      "metadata": {
        "id": "mg932EimMchR"
      },
      "source": [
        "# 연령별 인구현황\n",
        "df_groupby_age=pd.read_csv('22.세종시_연령별_인구현황.csv',encoding='CP949')\n",
        "\n",
        "# 지역별 세대원수별 세대수\n",
        "df_household=pd.read_csv('28.세종시_지역별_세대원수별_세대수.csv',encoding='CP949')"
      ],
      "execution_count": null,
      "outputs": []
    },
    {
      "cell_type": "code",
      "metadata": {
        "id": "_AbBxu8AMchR"
      },
      "source": [
        "# 년도 별 연령층 별 거주자수 \n",
        "# 년도 별 연령별 남자만\n",
        "# 년도 별 연령별 여자만\n",
        "# 년도 별 연령별 전체 \n",
        "# x축 연령 - 남녀  / y 축 거주자 수 / \n",
        "# vilolin plot 으로 -> x축이 년도 / y 축이 연령별 \n",
        "\n",
        "dt_age_2017=dt_age.loc[:,'201701_남자(총_거주자_수)':'201712_여자(100세_이상)']\n",
        "dt_age_2018=dt_age.loc[:,'201801_남자(총_거주자_수)':'201812_여자(100세_이상)']\n",
        "dt_age_2019=dt_age.loc[:,'201901_남자(총_거주자_수)':'201912_여자(100세_이상)']\n",
        "dt_age_2020=dt_age.loc[:,'202001_남자(총_거주자_수)':'202012_여자(100세_이상)']\n"
      ],
      "execution_count": null,
      "outputs": []
    },
    {
      "cell_type": "code",
      "metadata": {
        "id": "a2L1N6s5MchR"
      },
      "source": [
        "# 1, 2 인은 조치원읍이 많지만 3,4,5인은 새롬동이 훨씬 많음\n",
        "\n",
        "df_household.sort_values(by='계',ascending=False)"
      ],
      "execution_count": null,
      "outputs": []
    },
    {
      "cell_type": "code",
      "metadata": {
        "id": "6YnAbQQKMchR"
      },
      "source": [
        ""
      ],
      "execution_count": null,
      "outputs": []
    },
    {
      "cell_type": "markdown",
      "metadata": {
        "id": "uy5MahFMMchR"
      },
      "source": [
        "망한 상권 분석"
      ]
    },
    {
      "cell_type": "code",
      "metadata": {
        "id": "XD8HtX-2MchR"
      },
      "source": [
        "!pip install folium\n",
        "import pandas as pd\n",
        "import numpy as np\n",
        "import json\n",
        "import folium\n",
        "import matplotlib.pyplot as plt\n",
        "import matplotlib \n",
        "import seaborn as sns"
      ],
      "execution_count": null,
      "outputs": []
    },
    {
      "cell_type": "code",
      "metadata": {
        "id": "_BYhkQ24MchR"
      },
      "source": [
        "# matplotlib 라이브러리 사용 한글 깨지지 않도록\n",
        "import matplotlib.font_manager\n",
        "[f.name for f in matplotlib.font_manager.fontManager.ttflist if 'Nanum' in f.name]"
      ],
      "execution_count": null,
      "outputs": []
    },
    {
      "cell_type": "code",
      "metadata": {
        "id": "_0rGiJkrMchR"
      },
      "source": [
        "# 유니코드 깨짐현상 해결\n",
        "matplotlib.rcParams['axes.unicode_minus'] = False\n",
        "# 나눔고딕 폰트 적용\n",
        "matplotlib.rcParams['font.family'] = 'NanumGothic'"
      ],
      "execution_count": null,
      "outputs": []
    },
    {
      "cell_type": "code",
      "metadata": {
        "id": "YTPs6IwmMchR"
      },
      "source": [
        "df = pd.read_csv('17.세종시_사업체_매출정보.csv')\n",
        "ex = json.load(open('16.세종시_사업체_매출정보.geojson',encoding= 'utf-8'))\n",
        "rfile = open(r'31.세종시_법정경계(읍면동).geojson','r',encoding='utf-8').read()\n",
        "data31 = json.loads(rfile)"
      ],
      "execution_count": null,
      "outputs": []
    },
    {
      "cell_type": "code",
      "metadata": {
        "id": "y9-Y9fjmMchR"
      },
      "source": [
        "dada = df\n",
        "dada.head()"
      ],
      "execution_count": null,
      "outputs": []
    },
    {
      "cell_type": "code",
      "metadata": {
        "id": "JJ3lywJWMchS"
      },
      "source": [
        "# 격자별 고유 ID(gid 컬럼)를 제외한 모든 열에 nan값 있는 행 삭제 후 df_not에 넣어줌\n",
        "df_notnan = dada.iloc[:,1:].dropna(how='all')\n",
        "a = df_notnan.index\n",
        "df_not = dada.iloc[a]\n",
        "df_not"
      ],
      "execution_count": null,
      "outputs": []
    },
    {
      "cell_type": "code",
      "metadata": {
        "id": "HlofYP5iMchT"
      },
      "source": [
        " 동추가\n",
        "df_not['읍면동'] = ['소정면', '소정면', '전의면', '장군면', '전의면', '전의면', '전의면', '전의면', '장군면', '전의면', '전의면', \n",
        "                 '장군면', '전의면', '전의면', '장군면', '장군면', '연서면', '고운동', '고운동', '고운동', '고운동', '고운동',\n",
        "                 '고운동', '고운동', '고운동', '고운동', '고운동', '고운동', '연기면', '연기면', '다정동', '다정동', '종촌동',\n",
        "                 '아름동', '아름동', '아름동', '아름동', '아름동', '다정동', '새롬동', '새롬동', '종촌동', '다정동', '다정동',\n",
        "                 '다정동', '종촌동', '종촌동', '아름동', '한솔동', '다정동', '다정동', '다정동', '종촌동', '종촌동', '아름동',\n",
        "                 '아름동', '가람동', '연기면', '새롬동', '새롬동', '새롬동', '종촌동', '종촌동', '아름동', '한솔동', '새롬동',\n",
        "                 '새롬동', '아름동', '한솔동', '새롬동', '종촌동', '종촌동', '한솔동', '한솔동', '한솔동', '한솔동', '한솔동',\n",
        "                 '다정동', '한솔동', '새롬동', '새롬동', '나성동', '나성동', '도담동', '새롬동', '나성동', '나성동', '나성동', \n",
        "                 '나성동', '나성동', '어진동', '연기면', '나성동', '나성동', '나성동', '나성동', '어진동', '도담동', '도담동', \n",
        "                 '도담동', '도담동', '한솔동', '연기면', '나성동', '나성동', '나성동', '어진동', '어진동', '도담동', '도담동',\n",
        "                 '도담동', '한솔동', '한솔동', '연기면', '연기면', '나성동', '나성동', '어진동', '도담동', '연기면', '연기면', \n",
        "                 '나성동', '나성동', '어진동', '어진동', '연기면', '나성동', '어진동', '어진동', '어진동', '어진동', '어진동', \n",
        "                 '어진동', '어진동', '전동면', '어진동', '어진동', '대평동', '대평동', '대평동', '대평동', '대평동', '대평동', \n",
        "                 '연기면', '연기면', '대평동', '연기면', '연기면', '연서면', '금남면', '금남면', '금남면', '금남면', '금남면', \n",
        "                 '금남면', '금남면', '대평동', '금남면', '금남면', '금남면', '금남면', '금남면', '연서면', '연서면', '연서면', \n",
        "                 '연서면', '보람동', '보람동', '조치원읍', '조치원읍', '조치원읍', '보람동', '보람동', '조치원읍', '조치원읍', \n",
        "                 '조치원읍', '보람동', '보람동', '보람동', '조치원읍', '조치원읍', '조치원읍', '조치원읍', '보람동', '보람동', \n",
        "                 '보람동', '보람동', '조치원읍', '조치원읍', '조치원읍', '조치원읍', '조치원읍', '조치원읍', '조치원읍',\n",
        "                 '조치원읍', '보람동', '조치원읍', '조치원읍', '조치원읍', '조치원읍', '조치원읍', '보람동', '조치원읍',\n",
        "                 '조치원읍', '조치원읍', '보람동', '연서면', '조치원읍', '조치원읍', '조치원읍', '조치원읍', '보람동', '보람동',\n",
        "                 '조치원읍', '조치원읍', '조치원읍', '조치원읍', '조치원읍', '조치원읍', '조치원읍', '보람동', '보람동',\n",
        "                 '조치원읍', '조치원읍', '소담동', '조치원읍', '조치원읍', '조치원읍', '조치원읍', '조치원읍', '조치원읍', \n",
        "                 '조치원읍', '조치원읍', '조치원읍', '조치원읍', '조치원읍', '조치원읍', '조치원읍', '조치원읍', '조치원읍', \n",
        "                 '조치원읍', '조치원읍', '조치원읍', '조치원읍', '조치원읍', '조치원읍', '조치원읍', '조치원읍', '조치원읍', \n",
        "                 '조치원읍', '조치원읍', '조치원읍', '소담동', '소담동', '소담동', '조치원읍', '조치원읍', '조치원읍', '조치원읍',\n",
        "                 '조치원읍', '조치원읍', '조치원읍', '조치원읍', '조치원읍', '조치원읍', '조치원읍', '조치원읍', '조치원읍',\n",
        "                 '조치원읍', '소담동', '소담동', '조치원읍', '조치원읍', '조치원읍', '조치원읍', '조치원읍', '조치원읍',\n",
        "                 '조치원읍', '소담동', '소담동', '소담동', '조치원읍', '조치원읍', '조치원읍', '조치원읍', '조치원읍', '조치원읍',\n",
        "                 '소담동', '조치원읍', '조치원읍', '조치원읍', '조치원읍', '조치원읍', '반곡동', '조치원읍', '조치원읍',\n",
        "                 '반곡동', '반곡동', '부강면', '부강면', '부강면', '부강면', '부강면', '부강면', '부강면', '부강면', '부강면',\n",
        "                 '부강면', '부강면', '부강면', '부강면', '부강면']"
      ],
      "execution_count": null,
      "outputs": []
    },
    {
      "cell_type": "code",
      "metadata": {
        "id": "BC8FK8FdMchT"
      },
      "source": [
        "# 읍면동 열을 인덱스로 지정\n",
        "df_not = df_not.set_index('읍면동')\n",
        "df_not"
      ],
      "execution_count": null,
      "outputs": []
    },
    {
      "cell_type": "code",
      "metadata": {
        "id": "RsoZFV7-MchT"
      },
      "source": [
        "# 사업체들 위치\n",
        "\n",
        "m = folium.Map(location=[36.57,127.30] ,zoom_start=10.5)\n",
        "\n",
        "\n",
        "folium.Choropleth(geo_data = data31, key_on = 'features',fill_color = 'lightyellow',).add_to(m)\n",
        "\n",
        "for i in range(47395):\n",
        "    if any(ex['features'][i]['properties']['gid'] == df_not['gid'].values[0:311]):\n",
        "        a = ex['features'][i]['geometry']\n",
        "        folium.Choropleth( geo_data = a,key_on = 'coordinates',fill_color = 'BuPu',).add_to(m)\n",
        "m"
      ],
      "execution_count": null,
      "outputs": []
    },
    {
      "cell_type": "code",
      "metadata": {
        "id": "f6Yp-OuyMchT"
      },
      "source": [
        "df_year = df_not.iloc[:,1:9]   # 사업 년도\n",
        "df_captin_age = df_not.iloc[:,12:18]   # 대표자 나이\n",
        "df_loan = df_not.iloc[:,18:25]   # 대출액\n",
        "df_sales = df_not.iloc[:,25:40]   # 매출액\n",
        "df_buyer_age = df_not.iloc[:,40:47]   # 카드사용자 나이\n",
        "df_what = df_not['gid']\n",
        "df_what = df_not.iloc[:,47:]   # 격자 내부의 산업 분류"
      ],
      "execution_count": null,
      "outputs": []
    },
    {
      "cell_type": "markdown",
      "metadata": {
        "id": "fN5YXY4WMchT"
      },
      "source": [
        "읍면동별 사업 년도와 사업체수"
      ]
    },
    {
      "cell_type": "code",
      "metadata": {
        "id": "6VcifTIeMchT"
      },
      "source": [
        "# 세종시 전체 사업체 수\n",
        "# 사업년도는 5년 이상의 사업체 수가 가장 많음, 1년 미만의 사업체 수는 매우 적음(코로나 때문인듯), 폐업한 사업체는 적은 편\n",
        "df_year.sum(axis=0).plot(kind='bar', rot=0, figsize=(10,5))\n",
        "plt.title('business period')\n",
        "plt.show()"
      ],
      "execution_count": null,
      "outputs": []
    },
    {
      "cell_type": "code",
      "metadata": {
        "id": "A1P9IYmEMchT"
      },
      "source": [
        "# 읍면동별 합\n",
        "df_year_sum = df_year.groupby('읍면동').sum()\n",
        "# 읍면동별 평균\n",
        "df_year_mean = df_year.groupby('읍면동').mean()"
      ],
      "execution_count": null,
      "outputs": []
    },
    {
      "cell_type": "code",
      "metadata": {
        "id": "-U9HNFtiMchT"
      },
      "source": [
        "# 지역별 사업체 수 (조치원읍이 압도적임)\n",
        "df_year_sum['사업체수'].plot(kind='bar',rot=0, figsize=(13,5))\n",
        "plt.title('지역별 사업체 수', fontsize=17)\n",
        "plt.xlabel('지역',fontsize=12)\n",
        "plt.ylabel('사업체 수',fontsize=13)\n",
        "# plt.axhline(y=middle_grad['특목고 진학률'].quantile(0.75),color='pink',linewidth=2,ls='--')  # 상위 25% 선\n",
        "plt.show()"
      ],
      "execution_count": null,
      "outputs": []
    },
    {
      "cell_type": "code",
      "metadata": {
        "id": "guN_Ve69MchU"
      },
      "source": [
        "# 지도 시각화할때 읍면동이 컬럼값에 꼭 있어줘야해서 인덱스로 지정했던 읍면동을 컬럼으로 한 번 더 지정해주기 위한 코드\n",
        "df_year_map = df_year_sum\n",
        "df_year_map['지역'] = df_year_map.index"
      ],
      "execution_count": null,
      "outputs": []
    },
    {
      "cell_type": "code",
      "metadata": {
        "id": "sFEs0PFJMchU"
      },
      "source": [
        "# 지역별 사업체 수 지도시각화\n",
        "m = folium.Map(location=[36.57,127.30] ,zoom_start=10.5)\n",
        "\n",
        "folium.Choropleth(geo_data = data31,\n",
        "                  data = df_year_map,\n",
        "                  key_on = 'feature.properties.EMD_KOR_NM',\n",
        "                  columns = ('지역','사업체수'),\n",
        "                  fill_color = 'RdYlGn',\n",
        "                  legend_name = '사업체수').add_to(m)\n",
        "m"
      ],
      "execution_count": null,
      "outputs": []
    },
    {
      "cell_type": "code",
      "metadata": {
        "id": "rzFSD1wzMchU"
      },
      "source": [
        "df_year.columns = ['사업체수','1년미만','2년미만','3년미만','4년미만','5년미만','5년이상','휴폐업수']\n",
        "df_year.head()"
      ],
      "execution_count": null,
      "outputs": []
    },
    {
      "cell_type": "code",
      "metadata": {
        "id": "LcMrkcJeMchU"
      },
      "source": [
        "# 지역별 휴폐업 사업체 수 \n",
        "df_year_sum['휴폐업수'].plot(kind='bar',rot=0, figsize=(13,5))\n",
        "plt.title('지역별 휴폐업 사업장 수', fontsize=17)\n",
        "plt.xlabel('지역',fontsize=12)\n",
        "plt.ylabel('휴폐업 사업체 수',fontsize=13)\n",
        "# plt.axhline(y=middle_grad['특목고 진학률'].quantile(0.75),color='pink',linewidth=2,ls='--')  # 상위 25% 선\n",
        "plt.show()"
      ],
      "execution_count": null,
      "outputs": []
    },
    {
      "cell_type": "code",
      "metadata": {
        "id": "anlGON-nMchU"
      },
      "source": [
        "# 지역별 사업체 수와 휴폐업 사업체 수와의 관계 -> 특별히 사업체가 많이 휴폐업하는 경우는 없고 그냥 개수에 비례해서 휴폐업한다.\n",
        "\n",
        "plt.figure(figsize=(10,7))\n",
        "plt.scatter(df_year_sum['사업체수'],df_year_sum['휴폐업수'], s=40)\n",
        "plt.title('<지역별 사업체 수와 휴폐업 사업체 수와 관계>', fontsize=14)\n",
        "plt.xlabel('지역별 학원/교육 개수')\n",
        "plt.ylabel('아파트매매가격')\n",
        "\n",
        "for name in df_year_sum.index:\n",
        "    plt.text(df_year_sum['사업체수'][name]*1.1,df_year_sum['휴폐업수'][name],name,fontsize=11)"
      ],
      "execution_count": null,
      "outputs": []
    },
    {
      "cell_type": "code",
      "metadata": {
        "id": "jYyucN_-MchU"
      },
      "source": [
        "# 각 기간별로 가중치 부여하여 곱함\n",
        "\n",
        "df_year_weight = pd.DataFrame()\n",
        "df_year_weight['1년미만'] = df_year_mean['1년미만']*1\n",
        "df_year_weight['2년미만'] = df_year_mean['2년미만']*1\n",
        "df_year_weight['3년미만'] = df_year_mean['3년미만']*1\n",
        "df_year_weight['4년미만'] = df_year_mean['4년미만']*1\n",
        "df_year_weight['5년미만'] = df_year_mean['5년미만']*1\n",
        "df_year_weight['5년이상'] = df_year_mean['5년이상']*1\n",
        "df_year_weight['평균'] = (df_year_weight['1년미만']+df_year_weight['2년미만']+df_year_weight['3년미만']+df_year_weight['4년미만']+df_year_weight['5년미만']+df_year_weight['5년이상'])/6\n",
        "\n",
        "df_year_weight['지역'] = df_year_weight.index\n",
        "df_year_weight.head()"
      ],
      "execution_count": null,
      "outputs": []
    },
    {
      "cell_type": "code",
      "metadata": {
        "id": "9ZMTDSXVMchU"
      },
      "source": [
        "# 지역별 휴폐업 사업체 수 \n",
        "df_year_weight['평균'].plot(kind='bar',rot=0, figsize=(13,5))\n",
        "plt.title('지역별 평균 사업기간', fontsize=17)\n",
        "plt.xlabel('지역',fontsize=12)\n",
        "plt.ylabel('사업기간 (가중치 부여)',fontsize=13)\n",
        "# plt.axhline(y=middle_grad['특목고 진학률'].quantile(0.75),color='pink',linewidth=2,ls='--')  # 상위 25% 선\n",
        "plt.show()"
      ],
      "execution_count": null,
      "outputs": []
    },
    {
      "cell_type": "code",
      "metadata": {
        "id": "rqHb10N3MchU"
      },
      "source": [
        "# 지역별 사업 기간 지도 시각화\n",
        "m = folium.Map(location=[36.57,127.30] ,zoom_start=10.5)\n",
        "\n",
        "folium.Choropleth(geo_data = data31,\n",
        "                  data = df_year_weight,\n",
        "                  key_on = 'feature.properties.EMD_KOR_NM',\n",
        "                  columns = ('지역','평균'),\n",
        "                  fill_color = 'RdYlGn',\n",
        "                  legend_name = '사업 기간').add_to(m)\n",
        "m"
      ],
      "execution_count": null,
      "outputs": []
    },
    {
      "cell_type": "markdown",
      "metadata": {
        "id": "rsRjjLH0MchU"
      },
      "source": [
        "읍면동 별 대표자 나이"
      ]
    },
    {
      "cell_type": "code",
      "metadata": {
        "id": "gG8m6AlNMchU"
      },
      "source": [
        "df_captin_age.columns = ['10대','20대','30대','40대','50대','60대이상']\n",
        "df_captin_age.head()"
      ],
      "execution_count": null,
      "outputs": []
    },
    {
      "cell_type": "code",
      "metadata": {
        "id": "lyTUcAP7MchV"
      },
      "source": [
        "# 세종시 전체 대표자가 나이별 사업체 수 : 40대 > 50대 > 30대 > 60대이상 > 20대 >>>> 10대\n",
        "df_captin_age.sum(axis=0).plot(kind='bar', rot=0, figsize=(10,5))\n",
        "plt.title('Representative age')\n",
        "plt.show()"
      ],
      "execution_count": null,
      "outputs": []
    },
    {
      "cell_type": "code",
      "metadata": {
        "id": "BYIZoovCMchV"
      },
      "source": [
        "# 읍면동별 합\n",
        "df_year_sum = df_year.groupby('읍면동').sum()\n",
        "# 읍면동별 평균\n",
        "df_year_mean = df_year.groupby('읍면동').mean()"
      ],
      "execution_count": null,
      "outputs": []
    },
    {
      "cell_type": "code",
      "metadata": {
        "id": "ytMq0yNuMchV"
      },
      "source": [
        "df_buyer_age.columns = ['10대','20대','30대','40대','50대','60대','70이상']\n",
        "df_buyer_mean = df_buyer_age.groupby('읍면동').mean()"
      ],
      "execution_count": null,
      "outputs": []
    },
    {
      "cell_type": "code",
      "metadata": {
        "id": "msEjUbv0MchV"
      },
      "source": [
        "# 카드 사용자 비중 : 40대 > 30대 > 50대 > 20대 > 60대 > 10대,70대\n",
        "df_buyer_age.sum(axis=0).plot(kind='bar', rot=0, figsize=(20,5))\n",
        "plt.title('buyers with cards')\n",
        "plt.show()"
      ],
      "execution_count": null,
      "outputs": []
    },
    {
      "cell_type": "code",
      "metadata": {
        "id": "9Adao0Z-MchV"
      },
      "source": [
        "df_buyer_mean"
      ],
      "execution_count": null,
      "outputs": []
    },
    {
      "cell_type": "code",
      "metadata": {
        "id": "BbPJMnC-MchV"
      },
      "source": [
        "plt.figure(figsize=(20,15))\n",
        "\n",
        "plt.subplot(3,2,1)\n",
        "df_buyer_mean['10대'].plot(legend='10대')\n",
        "plt.title('지역별 10대 카드사용자 비중')\n",
        "\n",
        "plt.subplot(3,2,2)\n",
        "df_buyer_mean['20대'].plot(legend='20대')\n",
        "plt.title('지역별 20대 카드사용자 비중')\n",
        "\n",
        "plt.subplot(3,2,3)\n",
        "df_buyer_mean['30대'].plot(legend='30대')\n",
        "plt.title('지역별 30대 카드사용자 비중')\n",
        "\n",
        "plt.subplot(3,2,4)\n",
        "df_buyer_mean['40대'].plot(legend='40대')\n",
        "plt.title('지역별 40대 카드사용자 비중')\n",
        "\n",
        "plt.subplot(3,2,5)\n",
        "df_buyer_mean['50대'].plot(legend='50대')\n",
        "plt.title('지역별 50대 카드사용자 비중')\n",
        "\n",
        "plt.subplot(3,2,6)\n",
        "df_buyer_mean['60대'].plot(legend='60대')\n",
        "plt.title('지역별 60대 카드사용자 비중')\n",
        "\n",
        "plt.show()"
      ],
      "execution_count": null,
      "outputs": []
    },
    {
      "cell_type": "code",
      "metadata": {
        "id": "SzKK3ZeHMchV"
      },
      "source": [
        ""
      ],
      "execution_count": null,
      "outputs": []
    },
    {
      "cell_type": "markdown",
      "metadata": {
        "id": "-jNNHGvNMchV"
      },
      "source": [
        "매출액 데이터"
      ]
    },
    {
      "cell_type": "code",
      "metadata": {
        "id": "h3NnUqaSMchV"
      },
      "source": [
        "# 갈수록 매출액이 눈에 띄게 오름(2020년 2분기부터).. 코로나인데도 불구하고  -> 이쯤 세종시에 주택공급 있었나?\n",
        "df_sales.sum(axis=0).plot(kind='bar', rot=0, figsize=(20,5))\n",
        "plt.title('sales')\n",
        "plt.show()"
      ],
      "execution_count": null,
      "outputs": []
    },
    {
      "cell_type": "markdown",
      "metadata": {
        "id": "arAQfQRcMchV"
      },
      "source": [
        "향후 거주의사"
      ]
    },
    {
      "cell_type": "code",
      "metadata": {
        "id": "UUh3ycl9MchV"
      },
      "source": [
        "dt_29=pd.read_csv('29.세종시_거주의사(향후).csv',encoding='CP949')"
      ],
      "execution_count": null,
      "outputs": []
    },
    {
      "cell_type": "code",
      "metadata": {
        "id": "0Pas2s75MchV"
      },
      "source": [
        "dt_29['점수']=dt_29['매우 그런편임']*3+dt_29['어느정도 그런편임']*2+dt_29['보통']*1+dt_29['약간 그렇지 않은편임']*0+dt_29['전혀 그렇지 않은편임']*(-1)"
      ],
      "execution_count": null,
      "outputs": []
    },
    {
      "cell_type": "code",
      "metadata": {
        "id": "7nBySEJ_MchW"
      },
      "source": [
        "dt_29_address=dt_29[dt_29['중분류'].str.contains('읍·면·동별')]\n",
        "dt_29_lengthstay=dt_29[dt_29['중분류'].str.contains('거주기간별')]\n",
        "dt_29_age=dt_29[dt_29['중분류'].str.contains('연령별')]\n",
        "dt_29_education=dt_29[dt_29['중분류'].str.contains('교육정도별')]\n",
        "dt_29_occupation=dt_29[dt_29['중분류'].str.contains('직업별')]\n",
        "dt_29_married=dt_29[dt_29['중분류'].str.contains('혼인상태별')]\n",
        "dt_29_income=dt_29[dt_29['중분류'].str.contains('가구소득별')]\n",
        "dt_29_double_income=dt_29[dt_29['중분류'].str.contains('맞벌이 여부별')]\n",
        "dt_29_occutype=dt_29[dt_29['중분류'].str.contains('주거점유형태별')]"
      ],
      "execution_count": null,
      "outputs": []
    },
    {
      "cell_type": "code",
      "metadata": {
        "id": "1sHATv7xMchW",
        "outputId": "aacbdc3c-7d9b-4885-b9fb-faedd6201673"
      },
      "source": [
        "font_name = font_manager.FontProperties(fname=\"c:/Windows/Fonts/malgun.ttf\").get_name()\n",
        "rc('font', family=font_name)\n",
        "import matplotlib.pyplot as plt\n",
        "import seaborn as sns\n",
        "%matplotlib inline\n",
        "\n",
        "fig=plt.figure(figsize=(10,10))\n",
        "fig.add_subplot(3,3,1)\n",
        "sns.barplot(data=dt_29_address,x='소분류',y='점수')\n",
        "\n",
        "fig.add_subplot(3,3,2)\n",
        "sns.barplot(data=dt_29_lengthstay,x='소분류',y='점수')\n",
        "\n",
        "fig.add_subplot(3,3,3)\n",
        "sns.barplot(data=dt_29_age, x='소분류',y='점수')\n",
        "\n",
        "fig.add_subplot(3,3,4)\n",
        "sns.barplot(data=dt_29_education,x='소분류',y='점수')\n",
        "\n",
        "fig.add_subplot(3,3,5)\n",
        "sns.barplot(data=dt_29_occupation,x='소분류',y='점수')\n",
        "\n",
        "fig.add_subplot(3,3,6)\n",
        "sns.barplot(data=dt_29_married,x='소분류',y='점수')\n",
        "\n",
        "fig.add_subplot(3,3,7)\n",
        "sns.barplot(data=dt_29_income,x='소분류',y='점수')\n",
        "\n",
        "fig.add_subplot(3,3,8)\n",
        "sns.barplot(data=dt_29_double_income, x='소분류',y='점수')\n",
        "\n",
        "fig.add_subplot(3,3,9)\n",
        "sns.barplot(data=dt_29_occutype,x='소분류',y='점수')"
      ],
      "execution_count": null,
      "outputs": [
        {
          "output_type": "execute_result",
          "data": {
            "text/plain": [
              "<matplotlib.axes._subplots.AxesSubplot at 0x1d1dad5f2e8>"
            ]
          },
          "metadata": {
            "tags": []
          },
          "execution_count": 27
        },
        {
          "output_type": "display_data",
          "data": {
            "image/png": "[encoded data removed]",
            "text/plain": [
              "<Figure size 720x720 with 9 Axes>"
            ]
          },
          "metadata": {
            "tags": [],
            "needs_background": "light"
          }
        }
      ]
    }
  ]
}